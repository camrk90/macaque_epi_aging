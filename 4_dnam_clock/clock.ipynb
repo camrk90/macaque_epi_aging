{
 "cells": [
  {
   "cell_type": "code",
   "execution_count": 1,
   "metadata": {},
   "outputs": [],
   "source": [
    "import numpy as np\n",
    "import pandas as pd\n",
    "import re\n",
    "from os import listdir\n",
    "from sklearn.linear_model import MultiTaskElasticNetCV"
   ]
  },
  {
   "cell_type": "code",
   "execution_count": 2,
   "metadata": {},
   "outputs": [],
   "source": [
    "#SET PATH\n",
    "#Input takes 'locally' or 'remotely' and returns an absolute path based on the input \n",
    "location=input('Are you working locally or remotely today?')\n",
    "\n",
    "if location=='locally':\n",
    "    path=\"/Users/cameronkelsey/Documents/smack_lab/cayo_data/\"\n",
    "elif location=='remotely':\n",
    "    path=\"/scratch/ckelsey4/Cayo_meth/\""
   ]
  },
  {
   "cell_type": "code",
   "execution_count": 3,
   "metadata": {},
   "outputs": [],
   "source": [
    "#Import metadata\n",
    "metadata=pd.read_table(path + \"blood_metadata_full.txt\", sep=r'\\s+')\n",
    "\n",
    "#Import M/Cov\n",
    "regions_cov=pd.read_table(path + \"regions_cov_filtered.txt\", sep=r'\\s+')\n",
    "regions_cov=regions_cov[regions_cov.columns.intersection(metadata['lid_pid'])]\n",
    "regions_cov.index=regions_cov.index.str.split('.').str[3]\n",
    "\n",
    "regions_m=pd.read_table(path + \"regions_m_filtered.txt\", sep=r'\\s+')\n",
    "regions_m=regions_m[regions_m.columns.intersection(regions_cov.columns)]\n",
    "regions_m.index=regions_m.index.str.split('.').str[3]\n",
    "\n",
    "#Match metadata columns to M and Cov matrices\n",
    "metadata=metadata[metadata['lid_pid'].isin(regions_cov.columns)]"
   ]
  },
  {
   "cell_type": "code",
   "execution_count": 5,
   "metadata": {},
   "outputs": [],
   "source": [
    "#Define natural sorting function\n",
    "def natural_key(string_):\n",
    "    return [int(s) if s.isdigit() else s for s in re.split(r'(\\d+)', string_)]"
   ]
  },
  {
   "cell_type": "code",
   "execution_count": 6,
   "metadata": {},
   "outputs": [],
   "source": [
    "#Import coverage data per chromosome\n",
    "dnam_path=path + \"dnam_clock/\"\n",
    "\n",
    "cov_files=[f for f in listdir(dnam_path)\n",
    "        if \"cov\" in f]\n",
    "\n",
    "cov_files=sorted(cov_files, key=natural_key)        \n",
    "\n",
    "cov_full=[]\n",
    "\n",
    "for file in cov_files:\n",
    "        file=dnam_path + file        \n",
    "        dd=pd.read_csv(file, sep=\" \")\n",
    "        cov_full.append(dd)\n",
    "\n",
    "#Remove last instance of dd to free up memory\n",
    "del dd"
   ]
  },
  {
   "cell_type": "code",
   "execution_count": 10,
   "metadata": {},
   "outputs": [],
   "source": [
    "#Import count data per chromosome\n",
    "m_files=[f for f in listdir(dnam_path)\n",
    "        if \"m\" in f]\n",
    "\n",
    "m_files=sorted(m_files, key=natural_key)        \n",
    "\n",
    "m_full=[]\n",
    "\n",
    "for file in m_files:\n",
    "        file=dnam_path + file        \n",
    "        dd=pd.read_csv(file, sep=\" \")\n",
    "        m_full.append(dd)\n",
    "\n",
    "#Remove last instance of dd to free up memory\n",
    "del dd"
   ]
  },
  {
   "cell_type": "code",
   "execution_count": 7,
   "metadata": {},
   "outputs": [
    {
     "name": "stdout",
     "output_type": "stream",
     "text": [
      "M and Cov columns match. %methylation matrix generated. NAs replaced with 0's. Onwards!\n"
     ]
    }
   ],
   "source": [
    "#Check that col names for M, Cov and metadata lid_pid are all equal and generate %methylation matrix\n",
    "if all(regions_m.columns == regions_cov.columns) == True:\n",
    "    p_meth=regions_m/regions_cov\n",
    "    p_meth=p_meth.fillna(0)\n",
    "    print(\"M and Cov columns match. %methylation matrix generated. NAs replaced with 0's. Onwards!\")\n"
   ]
  },
  {
   "cell_type": "code",
   "execution_count": 8,
   "metadata": {},
   "outputs": [
    {
     "name": "stdout",
     "output_type": "stream",
     "text": [
      "['1' '2' '3' '4' '5' '6' '7' '8' '9' '10' '11' '12' '13' '14' '15' '16'\n",
      " '17' '18' '19' '20']\n",
      "Values should be between 1 and 20\n"
     ]
    }
   ],
   "source": [
    "#Remove X-chromosome from p_meth\n",
    "#Generate list of chrs where n=n of regions\n",
    "chrs=[i[0] for i in p_meth.index.str.split('_', n=1)]\n",
    "p_meth['chr']=chrs\n",
    "\n",
    "#Filter out X-chrom\n",
    "p_meth=p_meth[p_meth['chr'] != 'X']\n",
    "\n",
    "#Print list of reminaing chrs to be sure\n",
    "print(p_meth['chr'].unique())\n",
    "print(\"Values should be between 1 and 20\")\n",
    "\n",
    "#Remove chr col from p_meth\n",
    "p_meth=p_meth.drop('chr', axis=1)\n",
    "\n",
    "#Test whether chr column was dropped from p_meth\n",
    "len(p_meth.columns) == len(regions_cov.columns)\n",
    "\n",
    "#Transpose df so cols are regions and rows are lids\n",
    "p_meth=p_meth.transpose()"
   ]
  },
  {
   "cell_type": "code",
   "execution_count": 36,
   "metadata": {},
   "outputs": [],
   "source": [
    "#Actual\n",
    "SAMP=4\n",
    "\n",
    "p_meth_short=p_meth.iloc[:, 0:5]\n",
    "\n",
    "#Define train and test sets for methylation\n",
    "train_epi=p_meth_short.drop(p_meth.index[SAMP], axis=0)\n",
    "test_epi=p_meth_short.iloc[SAMP:SAMP+1, :]\n",
    "\n",
    "#Define train and test set for age\n",
    "train_age=metadata.drop(metadata.index[SAMP], axis=0).iloc[:, 20:21]\n",
    "test_age=metadata.iloc[SAMP:SAMP+1, 20:21]\n",
    "\n",
    "#Define alphas to test\n",
    "alphas=np.arange(0.1, 1.1, 0.1)\n"
   ]
  },
  {
   "cell_type": "code",
   "execution_count": 37,
   "metadata": {},
   "outputs": [],
   "source": [
    "\n",
    "model=MultiTaskElasticNetCV(l1_ratio=alphas, random_state=0)"
   ]
  },
  {
   "cell_type": "code",
   "execution_count": 38,
   "metadata": {},
   "outputs": [],
   "source": [
    "fitted_model=model.fit(train_epi, train_age)"
   ]
  },
  {
   "cell_type": "code",
   "execution_count": 39,
   "metadata": {},
   "outputs": [
    {
     "data": {
      "text/plain": [
       "array([[11.69907552]])"
      ]
     },
     "execution_count": 39,
     "metadata": {},
     "output_type": "execute_result"
    }
   ],
   "source": [
    "fitted_model.predict(test_epi)"
   ]
  },
  {
   "cell_type": "code",
   "execution_count": 43,
   "metadata": {},
   "outputs": [
    {
     "name": "stdout",
     "output_type": "stream",
     "text": [
      "0.016404368446576046\n",
      "0.9\n"
     ]
    },
    {
     "data": {
      "text/plain": [
       "array([36.69088066, 29.88568476, 31.42829381, ..., 30.44942337,\n",
       "       36.18593258, 44.66792482], shape=(5000,))"
      ]
     },
     "execution_count": 43,
     "metadata": {},
     "output_type": "execute_result"
    }
   ],
   "source": [
    "print(fitted_model.alpha_)\n",
    "print(fitted_model.l1_ratio_)\n",
    "mse_vals=fitted_model.mse_path_\n",
    "mse_vals.flatten()\n"
   ]
  },
  {
   "cell_type": "code",
   "execution_count": null,
   "metadata": {},
   "outputs": [],
   "source": []
  }
 ],
 "metadata": {
  "kernelspec": {
   "display_name": ".venv",
   "language": "python",
   "name": "python3"
  },
  "language_info": {
   "codemirror_mode": {
    "name": "ipython",
    "version": 3
   },
   "file_extension": ".py",
   "mimetype": "text/x-python",
   "name": "python",
   "nbconvert_exporter": "python",
   "pygments_lexer": "ipython3",
   "version": "3.12.3"
  }
 },
 "nbformat": 4,
 "nbformat_minor": 2
}
