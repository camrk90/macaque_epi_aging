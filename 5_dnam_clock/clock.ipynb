{
 "cells": [
  {
   "cell_type": "code",
   "execution_count": 1,
   "metadata": {},
   "outputs": [],
   "source": [
    "import numpy as np\n",
    "import pandas as pd\n",
    "import re\n",
    "from sklearn.linear_model import ElasticNetCV\n",
    "from os import listdir"
   ]
  },
  {
   "cell_type": "code",
   "execution_count": 2,
   "metadata": {},
   "outputs": [],
   "source": [
    "#Import metadata\n",
    "long_data=pd.read_csv(\"/scratch/ckelsey4/Cayo_meth/long_data_adjusted.txt\", sep=\"\\t\")\n",
    "long_data=long_data[long_data['n'] > 1]\n",
    "long_data=long_data.sort_values(by=['lid_pid'])"
   ]
  },
  {
   "cell_type": "code",
   "execution_count": 2,
   "metadata": {},
   "outputs": [],
   "source": [
    "#Define natural sorting function\n",
    "def natural_key(string_):\n",
    "    return [int(s) if s.isdigit() else s for s in re.split(r'(\\d+)', string_)]"
   ]
  },
  {
   "cell_type": "code",
   "execution_count": 5,
   "metadata": {},
   "outputs": [],
   "source": [
    "#Import coverage data per chromosome\n",
    "path=\"/scratch/ckelsey4/Cayo_meth/dnam_clock/\"\n",
    "\n",
    "cov_files=[f for f in listdir(path)\n",
    "        if \"cov\" in f]\n",
    "\n",
    "cov_files=sorted(cov_files, key=natural_key)        \n",
    "\n",
    "cov_full=[]\n",
    "\n",
    "for file in cov_files:\n",
    "        file=path + file        \n",
    "        dd=pd.read_csv(file, sep=\" \")\n",
    "        cov_full.append(dd)\n"
   ]
  },
  {
   "cell_type": "code",
   "execution_count": 6,
   "metadata": {},
   "outputs": [],
   "source": [
    "#Import count data per chromosome\n",
    "path=\"/scratch/ckelsey4/Cayo_meth/dnam_clock/\"\n",
    "\n",
    "cov_files=[f for f in listdir(path)\n",
    "        if \"m\" in f]\n",
    "\n",
    "cov_files=sorted(cov_files, key=natural_key)        \n",
    "\n",
    "cov_full=[]\n",
    "\n",
    "for file in cov_files:\n",
    "        file=path + file        \n",
    "        dd=pd.read_csv(file, sep=\" \")\n",
    "        cov_full.append(dd)"
   ]
  }
 ],
 "metadata": {
  "kernelspec": {
   "display_name": ".venv",
   "language": "python",
   "name": "python3"
  },
  "language_info": {
   "codemirror_mode": {
    "name": "ipython",
    "version": 3
   },
   "file_extension": ".py",
   "mimetype": "text/x-python",
   "name": "python",
   "nbconvert_exporter": "python",
   "pygments_lexer": "ipython3",
   "version": "3.12.11"
  }
 },
 "nbformat": 4,
 "nbformat_minor": 2
}
