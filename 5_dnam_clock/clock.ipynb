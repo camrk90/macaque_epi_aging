{
 "cells": [
  {
   "cell_type": "code",
   "execution_count": 46,
   "metadata": {},
   "outputs": [],
   "source": [
    "import numpy as np\n",
    "import pandas as pd\n",
    "import re\n",
    "from sklearn.linear_model import ElasticNetCV\n",
    "from sklearn.model_selection import LeaveOneOut\n",
    "from os import listdir"
   ]
  },
  {
   "cell_type": "code",
   "execution_count": null,
   "metadata": {},
   "outputs": [],
   "source": [
    "#SET PATH\n",
    "#Input takes 'locally' or 'remotely' and returns an absolute path based on the input \n",
    "location=input('Are you working locally or remotely today?')\n",
    "\n",
    "if location=='locally':\n",
    "    path=\"/Users/cameronkelsey/Documents/smack_lab/cayo_data/\"\n",
    "elif location=='remotely':\n",
    "    path=\"/scratch/ckelsey4/Cayo_meth/\""
   ]
  },
  {
   "cell_type": "code",
   "execution_count": 52,
   "metadata": {},
   "outputs": [],
   "source": [
    "#Import metadata\n",
    "long_data=pd.read_csv(path + \"long_data_adjusted.txt\", sep=\"\\t\")\n",
    "long_data=long_data[long_data['n'] > 1]\n",
    "long_data=long_data.sort_values(by=['lid_pid'])"
   ]
  },
  {
   "cell_type": "code",
   "execution_count": 5,
   "metadata": {},
   "outputs": [],
   "source": [
    "#Define natural sorting function\n",
    "def natural_key(string_):\n",
    "    return [int(s) if s.isdigit() else s for s in re.split(r'(\\d+)', string_)]"
   ]
  },
  {
   "cell_type": "code",
   "execution_count": null,
   "metadata": {},
   "outputs": [],
   "source": [
    "#Import coverage data per chromosome\n",
    "dnam_path=path + \"dnam_clock/\"\n",
    "\n",
    "cov_files=[f for f in listdir(dnam_path)\n",
    "        if \"cov\" in f]\n",
    "\n",
    "cov_files=sorted(cov_files, key=natural_key)        \n",
    "\n",
    "cov_full=[]\n",
    "\n",
    "for file in cov_files:\n",
    "        file=dnam_path + file        \n",
    "        dd=pd.read_csv(file, sep=\" \")\n",
    "        cov_full.append(dd)\n",
    "\n",
    "#Remove last instance of dd to free up memory\n",
    "del dd"
   ]
  },
  {
   "cell_type": "code",
   "execution_count": 10,
   "metadata": {},
   "outputs": [],
   "source": [
    "#Import count data per chromosome\n",
    "m_files=[f for f in listdir(dnam_path)\n",
    "        if \"m\" in f]\n",
    "\n",
    "m_files=sorted(m_files, key=natural_key)        \n",
    "\n",
    "m_full=[]\n",
    "\n",
    "for file in m_files:\n",
    "        file=dnam_path + file        \n",
    "        dd=pd.read_csv(file, sep=\" \")\n",
    "        m_full.append(dd)\n",
    "\n",
    "#Remove last instance of dd to free up memory\n",
    "del dd"
   ]
  },
  {
   "cell_type": "code",
   "execution_count": 54,
   "metadata": {},
   "outputs": [],
   "source": [
    "#Import M and Cov for regions\n",
    "#Import Cov and subset cols to lid_pid in metadata\n",
    "regions_cov=pd.read_csv(dnam_path + \"regions_cov.txt\", sep=\" \")\n",
    "regions_cov=regions_cov[regions_cov.columns.intersection(long_data['lid_pid'])]\n",
    "                        \n",
    "regions_m=pd.read_csv(dnam_path + \"regions_m.txt\", sep=\" \")\n",
    "regions_m=regions_m[regions_m.columns.intersection(regions_cov.columns)]\n",
    "\n",
    "#Match metadata columns to M and Cov matrices\n",
    "long_data=long_data[long_data['lid_pid'].isin(regions_cov.columns)]"
   ]
  },
  {
   "cell_type": "code",
   "execution_count": 56,
   "metadata": {},
   "outputs": [
    {
     "name": "stdout",
     "output_type": "stream",
     "text": [
      "M and Cov columns match. Col LIDs and metadata LIDs match. %methylation matrix generated. NAs replaced with 0's. Onwards!\n"
     ]
    }
   ],
   "source": [
    "#Check that col names for M, Cov and metadata lid_pid are all equal and generate %methylation matrix\n",
    "if all(regions_m.columns == regions_cov.columns) == True and all(regions_m.columns == long_data['lid_pid']) == True:\n",
    "    p_meth=regions_m/regions_cov\n",
    "    p_meth=p_meth.fillna(0)\n",
    "    print(\"M and Cov columns match. Col LIDs and metadata LIDs match. %methylation matrix generated. NAs replaced with 0's. Onwards!\")\n"
   ]
  },
  {
   "cell_type": "code",
   "execution_count": null,
   "metadata": {},
   "outputs": [],
   "source": [
    "#Remove X-chromosome from p_meth\n",
    "#Generate list of chrs where n=n of regions\n",
    "chrs=[i[0] for i in p_meth.index.str.split('_', n=1)]\n",
    "p_meth['chr']=chrs\n",
    "\n",
    "#Filter out X-chrom\n",
    "p_meth=p_meth[p_meth['chr'] != 'X']\n",
    "\n",
    "#Print list of reminaing chrs to be sure\n",
    "print(test['chr'].unique())\n",
    "\n",
    "#Remove chr col from p_meth\n",
    "p_meth=p_meth.drop('chr', axis=1)\n"
   ]
  },
  {
   "cell_type": "code",
   "execution_count": 47,
   "metadata": {},
   "outputs": [
    {
     "data": {
      "text/plain": [
       "118001"
      ]
     },
     "execution_count": 47,
     "metadata": {},
     "output_type": "execute_result"
    }
   ],
   "source": [
    "cv=LeaveOneOut()\n",
    "cv.get_n_splits(regions_m)"
   ]
  }
 ],
 "metadata": {
  "kernelspec": {
   "display_name": ".venv",
   "language": "python",
   "name": "python3"
  },
  "language_info": {
   "codemirror_mode": {
    "name": "ipython",
    "version": 3
   },
   "file_extension": ".py",
   "mimetype": "text/x-python",
   "name": "python",
   "nbconvert_exporter": "python",
   "pygments_lexer": "ipython3",
   "version": "3.12.3"
  }
 },
 "nbformat": 4,
 "nbformat_minor": 2
}
