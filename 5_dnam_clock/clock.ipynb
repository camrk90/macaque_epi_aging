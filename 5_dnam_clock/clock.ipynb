{
 "cells": [
  {
   "cell_type": "code",
   "execution_count": 5,
   "metadata": {},
   "outputs": [],
   "source": [
    "import pandas as pd\n",
    "from sklearn.linear_model import ElasticNetCV\n",
    "from os import listdir"
   ]
  },
  {
   "cell_type": "code",
   "execution_count": 2,
   "metadata": {},
   "outputs": [],
   "source": [
    "#Import metadata\n",
    "long_data=pd.read_csv(\"/scratch/ckelsey4/Cayo_meth/long_data_adjusted.txt\", sep=\"\\t\")\n",
    "long_data=long_data[long_data['n'] > 1]\n",
    "long_data=long_data.sort_values(by=['lid_pid'])"
   ]
  },
  {
   "cell_type": "code",
   "execution_count": 27,
   "metadata": {},
   "outputs": [],
   "source": [
    "#Import coverage data per chromosome\n",
    "path=\"/scratch/ckelsey4/Cayo_meth/dnam_clock/\"\n",
    "\n",
    "cov_files=[f for f in listdir(path)\n",
    "        if \"cov\" in f]\n",
    "\n",
    "cov_files=cov_files.sort()        \n",
    "#cov_files=[path + f for f in cov_files]\n",
    "\n",
    "#cpgs_cov=pd.read_csv(\"/scratch/ckelsey4/Cayo_meth/dnam_clock/cpg_cov.txt\", sep=\" \")\n",
    "#len(files)\n"
   ]
  },
  {
   "cell_type": "code",
   "execution_count": 3,
   "metadata": {},
   "outputs": [],
   "source": [
    "#Import count data\n",
    "cpgs_m=pd.read_csv(\"/scratch/ckelsey4/Cayo_meth/dnam_clock/cpg_m.22.txt\", sep=\" \")"
   ]
  },
  {
   "cell_type": "code",
   "execution_count": 33,
   "metadata": {},
   "outputs": [
    {
     "ename": "SyntaxError",
     "evalue": "invalid syntax (29462979.py, line 1)",
     "output_type": "error",
     "traceback": [
      "  \u001b[36mCell\u001b[39m\u001b[36m \u001b[39m\u001b[32mIn[33]\u001b[39m\u001b[32m, line 1\u001b[39m\n\u001b[31m    \u001b[39m\u001b[31mprint(lambda)\u001b[39m\n                ^\n\u001b[31mSyntaxError\u001b[39m\u001b[31m:\u001b[39m invalid syntax\n"
     ]
    }
   ],
   "source": []
  }
 ],
 "metadata": {
  "kernelspec": {
   "display_name": ".venv",
   "language": "python",
   "name": "python3"
  },
  "language_info": {
   "codemirror_mode": {
    "name": "ipython",
    "version": 3
   },
   "file_extension": ".py",
   "mimetype": "text/x-python",
   "name": "python",
   "nbconvert_exporter": "python",
   "pygments_lexer": "ipython3",
   "version": "3.12.11"
  }
 },
 "nbformat": 4,
 "nbformat_minor": 2
}
